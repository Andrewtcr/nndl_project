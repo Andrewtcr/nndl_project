{
  "nbformat": 4,
  "nbformat_minor": 0,
  "metadata": {
    "colab": {
      "provenance": []
    },
    "kernelspec": {
      "name": "python3",
      "display_name": "Python 3"
    },
    "language_info": {
      "name": "python"
    },
    "accelerator": "GPU",
    "gpuClass": "standard"
  },
  "cells": [
    {
      "cell_type": "code",
      "source": [
        "!pip install transformers datasets"
      ],
      "metadata": {
        "id": "KqD5sZC_1ibP"
      },
      "execution_count": null,
      "outputs": []
    },
    {
      "cell_type": "code",
      "execution_count": null,
      "metadata": {
        "id": "UfYGOEgBxFbd"
      },
      "outputs": [],
      "source": [
        "from transformers import ViTForImageClassification, ViTFeatureExtractor\n",
        "from datasets import Image, Dataset\n",
        "import torch\n",
        "from PIL import Image\n",
        "import zipfile\n",
        "import csv\n",
        "import os"
      ]
    },
    {
      "cell_type": "code",
      "source": [
        "from google.colab import drive\n",
        "drive.mount('/content/drive')"
      ],
      "metadata": {
        "colab": {
          "base_uri": "https://localhost:8080/"
        },
        "id": "F9JHwiDt2eH_",
        "outputId": "ceb4c861-5cbf-4354-8fdd-aa118a43307e"
      },
      "execution_count": null,
      "outputs": [
        {
          "output_type": "stream",
          "name": "stdout",
          "text": [
            "Mounted at /content/drive\n"
          ]
        }
      ]
    },
    {
      "cell_type": "code",
      "source": [
        "CHECKPOINT_PATH = '/content/drive/MyDrive/best_chkpt.zip'"
      ],
      "metadata": {
        "id": "sc83LtGAxIwj"
      },
      "execution_count": null,
      "outputs": []
    },
    {
      "cell_type": "code",
      "source": [
        "zip_ref = zipfile.ZipFile(CHECKPOINT_PATH, 'r')\n",
        "zip_ref.extractall(\"/content/tmp\")\n",
        "zip_ref.close()"
      ],
      "metadata": {
        "id": "09jPzcqB3BDX"
      },
      "execution_count": null,
      "outputs": []
    },
    {
      "cell_type": "code",
      "source": [
        "device = torch.device('cuda' if torch.cuda.is_available() else 'cpu')\n",
        "\n",
        "model = ViTForImageClassification.from_pretrained('/content/tmp/content/nndl_checkpoints_etc/checkpoint-8847')\n",
        "model.eval()\n",
        "model.to(device)"
      ],
      "metadata": {
        "id": "RWI_aOsyxMA7"
      },
      "execution_count": null,
      "outputs": []
    },
    {
      "cell_type": "code",
      "source": [
        "TEST_FILE_PATH = '/content/drive/MyDrive/X_test.zip'"
      ],
      "metadata": {
        "id": "5mdROv7V4bWv"
      },
      "execution_count": null,
      "outputs": []
    },
    {
      "cell_type": "code",
      "source": [
        "zip_ref = zipfile.ZipFile(TEST_FILE_PATH, 'r')\n",
        "zip_ref.extractall(\"/content/tmp\") # /content/tmp/test_shuffle\n",
        "zip_ref.close()"
      ],
      "metadata": {
        "id": "tyjOj23R5i6s"
      },
      "execution_count": null,
      "outputs": []
    },
    {
      "cell_type": "code",
      "source": [
        "OUTPUT_CSV_PATH = '/content/tmp/predictions_subclasses.csv'"
      ],
      "metadata": {
        "id": "QMiYpbWa5mdw"
      },
      "execution_count": null,
      "outputs": []
    },
    {
      "cell_type": "code",
      "source": [
        "TEST_FILES_PATH = '/content/tmp/test_shuffle'"
      ],
      "metadata": {
        "id": "AXmispxfKGno"
      },
      "execution_count": null,
      "outputs": []
    },
    {
      "cell_type": "code",
      "source": [
        "test_images = []\n",
        "\n",
        "# with open(OUTPUT_CSV_PATH, newline='', mode='w') as csvfile:\n",
        "  # csvwriter = csv.writer(csvfile, delimeter=',', quotechar='\"')\n",
        "\n",
        "for image_file in os.listdir(os.fsencode(TEST_FILES_PATH)):\n",
        "  filename = os.fsdecode(image_file)\n",
        "\n",
        "  img_path = f'{TEST_FILES_PATH}/{filename}'\n",
        "\n",
        "  test_images.append(img_path)\n",
        "  # print(img_path)\n",
        "\n",
        "print(test_images[0])"
      ],
      "metadata": {
        "colab": {
          "base_uri": "https://localhost:8080/"
        },
        "id": "uEoPg7m_6ZAi",
        "outputId": "23e5955d-b2ed-42e9-d194-2c7eb5384730"
      },
      "execution_count": null,
      "outputs": [
        {
          "output_type": "stream",
          "name": "stdout",
          "text": [
            "/content/tmp/test_shuffle/319.jpg\n"
          ]
        }
      ]
    },
    {
      "cell_type": "code",
      "source": [
        "prediction_labels = []\n",
        "\n",
        "for img in test_images:\n",
        "  im = Image.open(img)\n",
        "\n",
        "  feature_extractor = ViTFeatureExtractor.from_pretrained('/content/tmp/content/nndl_checkpoints_etc/checkpoint-8847')\n",
        "  encoding = feature_extractor(images=im, return_tensors=\"pt\")\n",
        "  # encoding.keys()\n",
        "\n",
        "  pixel_values = encoding['pixel_values'].to(device)\n",
        "\n",
        "  outputs = model(pixel_values)\n",
        "  logits = outputs.logits\n",
        "  # logits.shape\n",
        "\n",
        "  prediction = logits.argmax(-1)\n",
        "  # print(\"Predicted class:\", model.config.id2label[prediction.item()])\n",
        "\n",
        "  prediction_labels.append(model.config.id2label[prediction.item()])"
      ],
      "metadata": {
        "id": "WEOZ2qO06dbW"
      },
      "execution_count": null,
      "outputs": []
    },
    {
      "cell_type": "code",
      "source": [
        "encoding['pixel_values'].shape"
      ],
      "metadata": {
        "colab": {
          "base_uri": "https://localhost:8080/"
        },
        "id": "B7RbKJmxbWCf",
        "outputId": "56d9ea53-e0d6-454f-8360-8ea74ab3fb36"
      },
      "execution_count": null,
      "outputs": [
        {
          "output_type": "execute_result",
          "data": {
            "text/plain": [
              "torch.Size([1, 3, 224, 224])"
            ]
          },
          "metadata": {},
          "execution_count": 40
        }
      ]
    },
    {
      "cell_type": "code",
      "source": [
        "print(prediction_labels)"
      ],
      "metadata": {
        "colab": {
          "base_uri": "https://localhost:8080/"
        },
        "id": "D7pa5G0fVT5O",
        "outputId": "bdcf2a7d-77a7-4020-814f-4dd94b164937"
      },
      "execution_count": null,
      "outputs": [
        {
          "output_type": "execute_result",
          "data": {
            "text/plain": [
              "torch.Size([1, 89])"
            ]
          },
          "metadata": {},
          "execution_count": 38
        }
      ]
    },
    {
      "cell_type": "code",
      "source": [],
      "metadata": {
        "colab": {
          "base_uri": "https://localhost:8080/"
        },
        "id": "4LNJK6qvbSv0",
        "outputId": "978bd741-ade4-41d4-f173-b841a3eada97"
      },
      "execution_count": null,
      "outputs": [
        {
          "output_type": "stream",
          "name": "stdout",
          "text": [
            "Predicted class: spotted salamander, Ambystoma maculatum\n"
          ]
        }
      ]
    },
    {
      "cell_type": "code",
      "source": [],
      "metadata": {
        "id": "dPQx9a8ybTOf"
      },
      "execution_count": null,
      "outputs": []
    }
  ]
}